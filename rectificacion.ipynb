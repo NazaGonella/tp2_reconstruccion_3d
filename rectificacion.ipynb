{
 "cells": [
  {
   "cell_type": "code",
   "execution_count": null,
   "id": "6e4ce5c9",
   "metadata": {},
   "outputs": [
    {
     "name": "stdout",
     "output_type": "stream",
     "text": [
      "dict_keys(['left_K', 'left_dist', 'right_K', 'right_dist', 'R', 'T', 'E', 'F', 'image_size'])\n"
     ]
    },
    {
     "ename": "KeyError",
     "evalue": "'cameraMatrix1'",
     "output_type": "error",
     "traceback": [
      "\u001b[31m---------------------------------------------------------------------------\u001b[39m",
      "\u001b[31mKeyError\u001b[39m                                  Traceback (most recent call last)",
      "\u001b[36mCell\u001b[39m\u001b[36m \u001b[39m\u001b[32mIn[2]\u001b[39m\u001b[32m, line 10\u001b[39m\n\u001b[32m      6\u001b[39m     data = pickle.load(f)\n\u001b[32m      8\u001b[39m \u001b[38;5;28mprint\u001b[39m(data.keys())\n\u001b[32m---> \u001b[39m\u001b[32m10\u001b[39m cameraMatrix1 = \u001b[43mdata\u001b[49m\u001b[43m[\u001b[49m\u001b[33;43m\"\u001b[39;49m\u001b[33;43mcameraMatrix1\u001b[39;49m\u001b[33;43m\"\u001b[39;49m\u001b[43m]\u001b[49m\n\u001b[32m     11\u001b[39m distCoeffs1   = data[\u001b[33m\"\u001b[39m\u001b[33mdistCoeffs1\u001b[39m\u001b[33m\"\u001b[39m]\n\u001b[32m     12\u001b[39m cameraMatrix2 = data[\u001b[33m\"\u001b[39m\u001b[33mcameraMatrix2\u001b[39m\u001b[33m\"\u001b[39m]\n",
      "\u001b[31mKeyError\u001b[39m: 'cameraMatrix1'"
     ]
    }
   ],
   "source": [
    "import cv2\n",
    "import pickle\n",
    "\n",
    "# Load calibration data\n",
    "with open(\"./data/stereo_calibration.pkl\", \"rb\") as f:\n",
    "    data = pickle.load(f)\n",
    "\n",
    "print(data.keys())\n",
    "\n",
    "cameraMatrix1 = data['left_K']\n",
    "distCoeffs1   = data['left_dist']\n",
    "cameraMatrix2 = data['right_K']\n",
    "distCoeffs2   = data['right_dist']\n",
    "R             = data['R']\n",
    "T             = data['T']\n",
    "image_size    = data['image_size']\n",
    "\n",
    "# Compute rectification transforms\n",
    "R1, R2, P1, P2, Q, roi1, roi2 = cv2.stereoRectify(\n",
    "    cameraMatrix1,\n",
    "    distCoeffs1,\n",
    "    cameraMatrix2,\n",
    "    distCoeffs2,\n",
    "    image_size,\n",
    "    R,\n",
    "    T,\n",
    "    flags=cv2.CALIB_ZERO_DISPARITY,\n",
    "    alpha=-1\n",
    ")\n",
    "\n",
    "print(\"P1:\\n\", P1)\n",
    "print(\"P2:\\n\", P2)\n"
   ]
  }
 ],
 "metadata": {
  "kernelspec": {
   "display_name": ".venv (3.13.7)",
   "language": "python",
   "name": "python3"
  },
  "language_info": {
   "codemirror_mode": {
    "name": "ipython",
    "version": 3
   },
   "file_extension": ".py",
   "mimetype": "text/x-python",
   "name": "python",
   "nbconvert_exporter": "python",
   "pygments_lexer": "ipython3",
   "version": "3.13.7"
  }
 },
 "nbformat": 4,
 "nbformat_minor": 5
}
